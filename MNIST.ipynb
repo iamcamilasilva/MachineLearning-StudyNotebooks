{
 "cells": [
  {
   "cell_type": "code",
   "execution_count": 1,
   "metadata": {},
   "outputs": [],
   "source": [
    "import tensorflow as tf"
   ]
  },
  {
   "cell_type": "code",
   "execution_count": 2,
   "metadata": {},
   "outputs": [],
   "source": [
    "from tensorflow.examples.tutorials.mnist import input_data"
   ]
  },
  {
   "cell_type": "code",
   "execution_count": 3,
   "metadata": {},
   "outputs": [
    {
     "name": "stdout",
     "output_type": "stream",
     "text": [
      "WARNING:tensorflow:From <ipython-input-3-319879c4c296>:1: read_data_sets (from tensorflow.contrib.learn.python.learn.datasets.mnist) is deprecated and will be removed in a future version.\n",
      "Instructions for updating:\n",
      "Please use alternatives such as official/mnist/dataset.py from tensorflow/models.\n",
      "WARNING:tensorflow:From /home/cami/myvenv/lib/python3.6/site-packages/tensorflow/contrib/learn/python/learn/datasets/mnist.py:260: maybe_download (from tensorflow.contrib.learn.python.learn.datasets.base) is deprecated and will be removed in a future version.\n",
      "Instructions for updating:\n",
      "Please write your own downloading logic.\n",
      "WARNING:tensorflow:From /home/cami/myvenv/lib/python3.6/site-packages/tensorflow/contrib/learn/python/learn/datasets/mnist.py:262: extract_images (from tensorflow.contrib.learn.python.learn.datasets.mnist) is deprecated and will be removed in a future version.\n",
      "Instructions for updating:\n",
      "Please use tf.data to implement this functionality.\n",
      "Extracting MNIST_data/train-images-idx3-ubyte.gz\n",
      "WARNING:tensorflow:From /home/cami/myvenv/lib/python3.6/site-packages/tensorflow/contrib/learn/python/learn/datasets/mnist.py:267: extract_labels (from tensorflow.contrib.learn.python.learn.datasets.mnist) is deprecated and will be removed in a future version.\n",
      "Instructions for updating:\n",
      "Please use tf.data to implement this functionality.\n",
      "Extracting MNIST_data/train-labels-idx1-ubyte.gz\n",
      "WARNING:tensorflow:From /home/cami/myvenv/lib/python3.6/site-packages/tensorflow/contrib/learn/python/learn/datasets/mnist.py:110: dense_to_one_hot (from tensorflow.contrib.learn.python.learn.datasets.mnist) is deprecated and will be removed in a future version.\n",
      "Instructions for updating:\n",
      "Please use tf.one_hot on tensors.\n",
      "Extracting MNIST_data/t10k-images-idx3-ubyte.gz\n",
      "Extracting MNIST_data/t10k-labels-idx1-ubyte.gz\n",
      "WARNING:tensorflow:From /home/cami/myvenv/lib/python3.6/site-packages/tensorflow/contrib/learn/python/learn/datasets/mnist.py:290: DataSet.__init__ (from tensorflow.contrib.learn.python.learn.datasets.mnist) is deprecated and will be removed in a future version.\n",
      "Instructions for updating:\n",
      "Please use alternatives such as official/mnist/dataset.py from tensorflow/models.\n"
     ]
    }
   ],
   "source": [
    "mnist = input_data.read_data_sets('MNIST_data/', one_hot=True)"
   ]
  },
  {
   "cell_type": "code",
   "execution_count": 4,
   "metadata": {},
   "outputs": [
    {
     "data": {
      "text/plain": [
       "tensorflow.contrib.learn.python.learn.datasets.base.Datasets"
      ]
     },
     "execution_count": 4,
     "metadata": {},
     "output_type": "execute_result"
    }
   ],
   "source": [
    "type(mnist)"
   ]
  },
  {
   "cell_type": "code",
   "execution_count": 6,
   "metadata": {},
   "outputs": [
    {
     "data": {
      "text/plain": [
       "(55000, 784)"
      ]
     },
     "execution_count": 6,
     "metadata": {},
     "output_type": "execute_result"
    }
   ],
   "source": [
    "mnist.train.images.shape"
   ]
  },
  {
   "cell_type": "code",
   "execution_count": 7,
   "metadata": {},
   "outputs": [
    {
     "data": {
      "text/plain": [
       "55000"
      ]
     },
     "execution_count": 7,
     "metadata": {},
     "output_type": "execute_result"
    }
   ],
   "source": [
    "mnist.train.num_examples"
   ]
  },
  {
   "cell_type": "code",
   "execution_count": 8,
   "metadata": {},
   "outputs": [
    {
     "data": {
      "text/plain": [
       "10000"
      ]
     },
     "execution_count": 8,
     "metadata": {},
     "output_type": "execute_result"
    }
   ],
   "source": [
    "mnist.test.num_examples"
   ]
  },
  {
   "cell_type": "code",
   "execution_count": 9,
   "metadata": {},
   "outputs": [],
   "source": [
    "import matplotlib.pyplot as plt"
   ]
  },
  {
   "cell_type": "code",
   "execution_count": 11,
   "metadata": {},
   "outputs": [
    {
     "data": {
      "text/plain": [
       "(784,)"
      ]
     },
     "execution_count": 11,
     "metadata": {},
     "output_type": "execute_result"
    }
   ],
   "source": [
    "mnist.train.images[1].shape"
   ]
  },
  {
   "cell_type": "code",
   "execution_count": 14,
   "metadata": {},
   "outputs": [
    {
     "data": {
      "text/plain": [
       "<matplotlib.image.AxesImage at 0x7ff40074f940>"
      ]
     },
     "execution_count": 14,
     "metadata": {},
     "output_type": "execute_result"
    },
    {
     "data": {
      "image/png": "[encoded data removed]",
      "text/plain": [
       "<Figure size 432x288 with 1 Axes>"
      ]
     },
     "metadata": {
      "needs_background": "light"
     },
     "output_type": "display_data"
    }
   ],
   "source": [
    "plt.imshow(mnist.train.images[1].reshape(28,28), cmap='gist_gray')"
   ]
  },
  {
   "cell_type": "code",
   "execution_count": 15,
   "metadata": {},
   "outputs": [
    {
     "data": {
      "text/plain": [
       "<matplotlib.image.AxesImage at 0x7ff400735ac8>"
      ]
     },
     "execution_count": 15,
     "metadata": {},
     "output_type": "execute_result"
    },
    {
     "data": {
      "image/png": "[encoded data removed]",
      "text/plain": [
       "<Figure size 432x288 with 1 Axes>"
      ]
     },
     "metadata": {
      "needs_background": "light"
     },
     "output_type": "display_data"
    }
   ],
   "source": [
    "plt.imshow(mnist.train.images[1].reshape(784,1), cmap='gist_gray', aspect=0.02)"
   ]
  },
  {
   "cell_type": "code",
   "execution_count": 17,
   "metadata": {},
   "outputs": [],
   "source": [
    "# mnist.train.images[1].reshape(28,28)"
   ]
  },
  {
   "cell_type": "code",
   "execution_count": 18,
   "metadata": {},
   "outputs": [],
   "source": [
    "x = tf.placeholder(tf.float32, shape=[None, 784])"
   ]
  },
  {
   "cell_type": "code",
   "execution_count": 20,
   "metadata": {},
   "outputs": [],
   "source": [
    "W = tf.Variable(tf.zeros([784,10]))"
   ]
  },
  {
   "cell_type": "code",
   "execution_count": 23,
   "metadata": {},
   "outputs": [],
   "source": [
    "b = tf.Variable(tf.zeros([10]))"
   ]
  },
  {
   "cell_type": "code",
   "execution_count": 24,
   "metadata": {},
   "outputs": [],
   "source": [
    "y = tf.matmul(x,W) + b"
   ]
  },
  {
   "cell_type": "code",
   "execution_count": 25,
   "metadata": {},
   "outputs": [],
   "source": [
    "y_true = tf.placeholder(tf.float32, shape=[None,10])"
   ]
  },
  {
   "cell_type": "code",
   "execution_count": 26,
   "metadata": {},
   "outputs": [],
   "source": [
    "cross_entropy = tf.reduce_mean(tf.nn.softmax_cross_entropy_with_logits_v2(labels=y_true,logits=y))"
   ]
  },
  {
   "cell_type": "code",
   "execution_count": 27,
   "metadata": {},
   "outputs": [],
   "source": [
    "optimizer = tf.train.GradientDescentOptimizer(learning_rate=0.5)"
   ]
  },
  {
   "cell_type": "code",
   "execution_count": 28,
   "metadata": {},
   "outputs": [],
   "source": [
    "train = optimizer.minimize(cross_entropy)"
   ]
  },
  {
   "cell_type": "code",
   "execution_count": 29,
   "metadata": {},
   "outputs": [],
   "source": [
    "init = tf.global_variables_initializer()"
   ]
  },
  {
   "cell_type": "code",
   "execution_count": null,
   "metadata": {},
   "outputs": [
    {
     "name": "stdout",
     "output_type": "stream",
     "text": [
      "0.2361\n",
      "0.3235\n",
      "0.4654\n",
      "0.5536\n",
      "0.6068\n",
      "0.6565\n",
      "0.6691\n",
      "0.7377\n",
      "0.825\n",
      "0.7676\n",
      "0.7554\n",
      "0.7649\n",
      "0.7478\n",
      "0.7931\n",
      "0.8279\n",
      "0.8497\n",
      "0.8217\n",
      "0.8304\n",
      "0.7794\n",
      "0.8294\n",
      "0.8094\n",
      "0.8494\n",
      "0.833\n",
      "0.8276\n",
      "0.8587\n",
      "0.8593\n",
      "0.8271\n",
      "0.8351\n",
      "0.85\n",
      "0.8581\n",
      "0.8676\n",
      "0.8432\n",
      "0.8677\n",
      "0.8697\n",
      "0.8603\n",
      "0.8747\n",
      "0.8733\n",
      "0.8707\n",
      "0.8601\n",
      "0.869\n",
      "0.8792\n",
      "0.8739\n",
      "0.8723\n",
      "0.8703\n",
      "0.8738\n",
      "0.8784\n",
      "0.8812\n",
      "0.8811\n",
      "0.8698\n",
      "0.8744\n",
      "0.8805\n",
      "0.8699\n",
      "0.8757\n",
      "0.8754\n",
      "0.8795\n",
      "0.885\n",
      "0.8824\n",
      "0.885\n",
      "0.8731\n",
      "0.8807\n",
      "0.8838\n",
      "0.8808\n",
      "0.8893\n",
      "0.8912\n",
      "0.8907\n",
      "0.8872\n",
      "0.8915\n",
      "0.8823\n",
      "0.8765\n",
      "0.8864\n",
      "0.8818\n",
      "0.8878\n",
      "0.8833\n",
      "0.8872\n",
      "0.881\n",
      "0.8887\n",
      "0.8841\n",
      "0.8887\n",
      "0.8854\n",
      "0.8876\n",
      "0.8858\n",
      "0.8918\n",
      "0.89\n",
      "0.8917\n",
      "0.8853\n",
      "0.8916\n",
      "0.8898\n",
      "0.8916\n",
      "0.8908\n",
      "0.8869\n",
      "0.8876\n",
      "0.8855\n",
      "0.8955\n",
      "0.8949\n",
      "0.8914\n",
      "0.8889\n",
      "0.8921\n",
      "0.8931\n",
      "0.8936\n",
      "0.8978\n",
      "0.8903\n",
      "0.89\n",
      "0.895\n",
      "0.8956\n",
      "0.8934\n",
      "0.8929\n",
      "0.8909\n",
      "0.8936\n",
      "0.8961\n",
      "0.8948\n",
      "0.8986\n",
      "0.8951\n",
      "0.8919\n",
      "0.8884\n",
      "0.8963\n",
      "0.8973\n",
      "0.8904\n",
      "0.8948\n",
      "0.9022\n",
      "0.8964\n",
      "0.8964\n",
      "0.8971\n",
      "0.8982\n",
      "0.8989\n",
      "0.8988\n",
      "0.899\n",
      "0.9007\n",
      "0.8924\n",
      "0.9018\n",
      "0.8983\n",
      "0.8966\n",
      "0.9025\n",
      "0.8956\n",
      "0.8989\n",
      "0.901\n",
      "0.8963\n",
      "0.8866\n",
      "0.8983\n",
      "0.8971\n",
      "0.9019\n",
      "0.898\n",
      "0.8988\n",
      "0.9008\n",
      "0.9007\n",
      "0.8993\n",
      "0.8999\n",
      "0.8986\n",
      "0.8998\n",
      "0.9021\n",
      "0.8988\n",
      "0.8989\n",
      "0.8945\n",
      "0.8995\n",
      "0.8971\n",
      "0.8997\n",
      "0.9002\n",
      "0.9007\n",
      "0.9032\n",
      "0.8989\n",
      "0.8987\n",
      "0.8927\n",
      "0.9024\n",
      "0.9016\n",
      "0.9023\n",
      "0.8931\n",
      "0.9036\n",
      "0.9002\n",
      "0.9014\n",
      "0.9007\n",
      "0.9024\n",
      "0.9033\n",
      "0.8998\n",
      "0.9025\n",
      "0.8985\n",
      "0.9019\n",
      "0.9009\n",
      "0.9018\n",
      "0.9055\n",
      "0.906\n",
      "0.8988\n",
      "0.8986\n",
      "0.9031\n",
      "0.9029\n",
      "0.9019\n",
      "0.8984\n",
      "0.899\n",
      "0.9072\n",
      "0.907\n",
      "0.9049\n",
      "0.9086\n",
      "0.9027\n",
      "0.9055\n",
      "0.9037\n",
      "0.9032\n",
      "0.9056\n",
      "0.9032\n",
      "0.8977\n",
      "0.9013\n",
      "0.8989\n",
      "0.9015\n",
      "0.907\n",
      "0.9053\n",
      "0.9055\n",
      "0.9054\n",
      "0.906\n",
      "0.9076\n",
      "0.9046\n",
      "0.9098\n",
      "0.906\n",
      "0.9047\n",
      "0.9025\n",
      "0.9083\n",
      "0.9065\n",
      "0.9023\n",
      "0.9082\n",
      "0.9064\n",
      "0.9083\n",
      "0.906\n",
      "0.9075\n",
      "0.9018\n",
      "0.9094\n",
      "0.9062\n",
      "0.9063\n",
      "0.9042\n",
      "0.9019\n",
      "0.8973\n",
      "0.901\n",
      "0.8994\n",
      "0.9003\n",
      "0.9087\n",
      "0.9034\n",
      "0.9066\n",
      "0.9048\n",
      "0.9064\n",
      "0.9091\n",
      "0.9088\n",
      "0.9048\n",
      "0.9104\n",
      "0.9078\n",
      "0.9041\n",
      "0.9084\n",
      "0.9069\n",
      "0.9095\n",
      "0.9069\n",
      "0.9057\n",
      "0.9092\n",
      "0.9071\n",
      "0.9029\n",
      "0.9041\n",
      "0.9057\n",
      "0.9046\n",
      "0.8914\n",
      "0.9039\n",
      "0.9099\n",
      "0.908\n",
      "0.9087\n",
      "0.9067\n",
      "0.9057\n",
      "0.9044\n",
      "0.9049\n",
      "0.9096\n",
      "0.9087\n",
      "0.91\n",
      "0.9067\n",
      "0.9057\n",
      "0.9078\n",
      "0.9059\n",
      "0.9038\n",
      "0.9053\n",
      "0.9075\n",
      "0.9101\n",
      "0.9063\n",
      "0.9108\n",
      "0.9083\n",
      "0.9103\n",
      "0.9116\n",
      "0.9119\n",
      "0.9118\n",
      "0.9074\n",
      "0.9076\n",
      "0.9102\n",
      "0.9071\n",
      "0.9055\n",
      "0.9085\n",
      "0.912\n",
      "0.9082\n",
      "0.909\n",
      "0.9108\n",
      "0.9117\n",
      "0.9101\n",
      "0.9106\n",
      "0.9092\n",
      "0.9053\n",
      "0.9087\n",
      "0.9063\n",
      "0.91\n",
      "0.9088\n",
      "0.913\n",
      "0.9081\n",
      "0.9078\n",
      "0.8973\n",
      "0.9078\n",
      "0.9066\n",
      "0.9071\n",
      "0.9072\n",
      "0.9076\n",
      "0.9025\n",
      "0.9044\n",
      "0.909\n",
      "0.9121\n",
      "0.9132\n",
      "0.9068\n",
      "0.9078\n",
      "0.9086\n",
      "0.9061\n",
      "0.9074\n",
      "0.909\n",
      "0.9098\n",
      "0.9028\n",
      "0.9086\n",
      "0.9096\n",
      "0.9104\n",
      "0.9027\n",
      "0.9091\n",
      "0.9108\n",
      "0.9057\n",
      "0.9041\n",
      "0.9073\n",
      "0.9075\n",
      "0.9065\n",
      "0.9083\n",
      "0.9101\n",
      "0.908\n",
      "0.9087\n",
      "0.9112\n",
      "0.9098\n",
      "0.9105\n",
      "0.9104\n",
      "0.9087\n",
      "0.9022\n",
      "0.9088\n",
      "0.9048\n",
      "0.9133\n",
      "0.9117\n",
      "0.9086\n"
     ]
    }
   ],
   "source": [
    "with tf.Session() as sess:\n",
    "    sess.run(init)\n",
    "    \n",
    "    for step in range(1000):\n",
    "        \n",
    "        batch_x, batch_y = mnist.train.next_batch(100)\n",
    "        sess.run(train,feed_dict = {x:batch_x,y_true:batch_y})\n",
    "        \n",
    "        matches = tf.equal(tf.argmax(y,1),tf.argmax(y_true,1))\n",
    "        acc = tf.reduce_mean(tf.cast(matches,tf.float32))\n",
    "        \n",
    "        print(sess.run(acc,feed_dict={x:mnist.test.images,y_true:mnist.test.labels}))\n",
    "        "
   ]
  },
  {
   "cell_type": "code",
   "execution_count": null,
   "metadata": {},
   "outputs": [],
   "source": []
  },
  {
   "cell_type": "code",
   "execution_count": null,
   "metadata": {},
   "outputs": [],
   "source": []
  }
 ],
 "metadata": {
  "kernelspec": {
   "display_name": "Python 3",
   "language": "python",
   "name": "python3"
  },
  "language_info": {
   "codemirror_mode": {
    "name": "ipython",
    "version": 3
   },
   "file_extension": ".py",
   "mimetype": "text/x-python",
   "name": "python",
   "nbconvert_exporter": "python",
   "pygments_lexer": "ipython3",
   "version": "3.6.6"
  }
 },
 "nbformat": 4,
 "nbformat_minor": 2
}
